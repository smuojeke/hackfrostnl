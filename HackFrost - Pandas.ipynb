{
 "cells": [
  {
   "cell_type": "markdown",
   "metadata": {},
   "source": [
    "# Welcome to Pandas"
   ]
  },
  {
   "cell_type": "markdown",
   "metadata": {},
   "source": [
    "<img src=\"pandas_1.jpeg\" alt=\"Pandas\" style=\"width: 500px;\"/>"
   ]
  },
  {
   "cell_type": "markdown",
   "metadata": {},
   "source": [
    "## What inspiration did man draw from this amazing creature?"
   ]
  },
  {
   "cell_type": "markdown",
   "metadata": {},
   "source": [
    "### A few things to know about pandas\n",
    "* More than just beautiful creatures\n",
    "* Pandas is a python library for handling and manipulating data\n",
    "* Every library usually gets imported into a program workspace"
   ]
  },
  {
   "cell_type": "code",
   "execution_count": 35,
   "metadata": {},
   "outputs": [],
   "source": [
    "import pandas as pd"
   ]
  },
  {
   "cell_type": "markdown",
   "metadata": {},
   "source": [
    "## Pandas is able to handle data in various formats such as\n",
    "* Comma-separated values (CSV)\n",
    "* XLSX\n",
    "* ZIP\n",
    "* Plain Text (txt)\n",
    "* JSON\n",
    "* XML\n",
    "* HTML\n",
    "* Images\n",
    "* Hierarchical Data Format\n",
    "* PDF\n",
    "* DOCX\n",
    "* MP3\n",
    "* MP4\n",
    "* SQL"
   ]
  },
  {
   "cell_type": "markdown",
   "metadata": {},
   "source": [
    "Let us import coronavirus data from the following website\n",
    "https://ourworldindata.org/coronavirus-source-data\n",
    "using the link below\n",
    "https://covid.ourworldindata.org/data/owid-covid-data.csv"
   ]
  },
  {
   "cell_type": "code",
   "execution_count": 201,
   "metadata": {},
   "outputs": [],
   "source": [
    "df = pd.read_csv('owid-covid-data.csv')"
   ]
  },
  {
   "cell_type": "markdown",
   "metadata": {},
   "source": [
    "## This is where we get to see what our data looks like"
   ]
  },
  {
   "cell_type": "code",
   "execution_count": 189,
   "metadata": {},
   "outputs": [],
   "source": [
    "#pd.set_option('display.max_columns', None)"
   ]
  },
  {
   "cell_type": "code",
   "execution_count": 188,
   "metadata": {},
   "outputs": [],
   "source": [
    "#df.head()"
   ]
  },
  {
   "cell_type": "code",
   "execution_count": 186,
   "metadata": {},
   "outputs": [],
   "source": [
    "#len(df)"
   ]
  },
  {
   "cell_type": "code",
   "execution_count": 187,
   "metadata": {},
   "outputs": [],
   "source": [
    "#df.shape"
   ]
  },
  {
   "cell_type": "code",
   "execution_count": 185,
   "metadata": {},
   "outputs": [],
   "source": [
    "#df.tail()"
   ]
  },
  {
   "cell_type": "markdown",
   "metadata": {},
   "source": [
    "<img src=\"pandas_group.jpeg\" alt=\"Pandas\" style=\"width: 500px;\"/>"
   ]
  },
  {
   "cell_type": "code",
   "execution_count": 183,
   "metadata": {},
   "outputs": [],
   "source": [
    "#df.columns"
   ]
  },
  {
   "cell_type": "code",
   "execution_count": 168,
   "metadata": {},
   "outputs": [],
   "source": [
    "#df.dtypes"
   ]
  },
  {
   "cell_type": "code",
   "execution_count": 167,
   "metadata": {},
   "outputs": [],
   "source": [
    "#df.count()"
   ]
  },
  {
   "cell_type": "code",
   "execution_count": 169,
   "metadata": {},
   "outputs": [],
   "source": [
    "#df['iso_code'].unique()"
   ]
  },
  {
   "cell_type": "code",
   "execution_count": 181,
   "metadata": {},
   "outputs": [],
   "source": [
    "#df['continent']"
   ]
  },
  {
   "cell_type": "code",
   "execution_count": 182,
   "metadata": {},
   "outputs": [],
   "source": [
    "#df.loc[[0, 2]]"
   ]
  },
  {
   "cell_type": "code",
   "execution_count": 184,
   "metadata": {},
   "outputs": [],
   "source": [
    "#df.describe()"
   ]
  },
  {
   "cell_type": "markdown",
   "metadata": {},
   "source": []
  },
  {
   "cell_type": "code",
   "execution_count": null,
   "metadata": {},
   "outputs": [],
   "source": []
  },
  {
   "cell_type": "markdown",
   "metadata": {},
   "source": [
    "* 'iso_code', 'continent', 'location', 'date',\n",
    "* 'total_cases', 'new_cases', 'new_cases_smoothed', \n",
    "* 'total_deaths', 'new_deaths', 'new_deaths_smoothed',\n",
    "* 'total_cases_per_million', **'new_cases_per_million', 'new_cases_smoothed_per_million',**\n",
    "* 'total_deaths_per_million', **'new_deaths_per_million', 'new_deaths_smoothed_per_million',**\n",
    "* 'reproduction_rate', \n",
    "* 'icu_patients', **'icu_patients_per_million', **\n",
    "* 'hosp_patients', **'hosp_patients_per_million', **\n",
    "* 'weekly_icu_admissions', **'weekly_icu_admissions_per_million',** \n",
    "* 'weekly_hosp_admissions', **'weekly_hosp_admissions_per_million', **\n",
    "* 'new_tests', 'total_tests',\n",
    "* 'total_tests_per_thousand', 'new_tests_per_thousand',\n",
    "* 'new_tests_smoothed', 'new_tests_smoothed_per_thousand',\n",
    "* 'positive_rate', 'tests_per_case', 'tests_units', \n",
    "* 'total_vaccinations', 'people_vaccinated', 'people_fully_vaccinated', \n",
    "* 'new_vaccinations', 'new_vaccinations_smoothed', \n",
    "* 'total_vaccinations_per_hundred', 'people_vaccinated_per_hundred', **'people_fully_vaccinated_per_hundred',**\n",
    "* 'new_vaccinations_smoothed_per_million', \n",
    "* 'stringency_index',\n",
    "* 'population', 'population_density', \n",
    "* 'median_age', \n",
    "* 'aged_65_older', 'aged_70_older',\n",
    "* 'gdp_per_capita', 'extreme_poverty',\n",
    "* 'cardiovasc_death_rate', 'diabetes_prevalence', \n",
    "* 'female_smokers', 'male_smokers', \n",
    "* 'handwashing_facilities', \n",
    "* '**hospital_beds_per_thousand',**\n",
    "* 'life_expectancy', 'human_development_index'"
   ]
  },
  {
   "cell_type": "markdown",
   "metadata": {},
   "source": [
    "### The maximum and minimum date in our datset"
   ]
  },
  {
   "cell_type": "code",
   "execution_count": 101,
   "metadata": {},
   "outputs": [],
   "source": [
    "#df.date.min()\n",
    "#df.date.max()"
   ]
  },
  {
   "cell_type": "markdown",
   "metadata": {},
   "source": [
    "### The maximum and minimum value of any other paramenter of interest"
   ]
  },
  {
   "cell_type": "code",
   "execution_count": 102,
   "metadata": {},
   "outputs": [],
   "source": [
    "#df.weekly_icu_admissions.min()\n",
    "#df.weekly_icu_admissions.max()"
   ]
  },
  {
   "cell_type": "markdown",
   "metadata": {},
   "source": [
    "### The maximum and minimum value of any other paramenter of interest based on a date range"
   ]
  },
  {
   "cell_type": "code",
   "execution_count": 154,
   "metadata": {},
   "outputs": [],
   "source": [
    "#date_min = df.date >= '2020-12-01'\n",
    "#date_max = df.date <= '2020-12-31'"
   ]
  },
  {
   "cell_type": "code",
   "execution_count": 193,
   "metadata": {},
   "outputs": [],
   "source": [
    "#df_date_range = df[date_min & date_max]\n",
    "#df_date_range.shape\n",
    "#print(\"Based on date range given,\")\n",
    "#print(\"Shape of new dataframe: \" + str(df_date_range.shape))\n",
    "#print(\"Minimum parameter value: \" + str(df_date_range.weekly_icu_admissions.min()))\n",
    "#print(\"Maximum parameter value: \" + str(df_date_range.weekly_icu_admissions.max()))\n"
   ]
  },
  {
   "cell_type": "code",
   "execution_count": 194,
   "metadata": {},
   "outputs": [],
   "source": [
    "#cond_parameter = (df.weekly_icu_admissions > 8) & (df.weekly_icu_admissions < 10)\n",
    "#cond_parameter = (df.weekly_icu_admissions < 2)\n",
    "#df[date_min & date_max & cond_parameter]\n"
   ]
  },
  {
   "cell_type": "markdown",
   "metadata": {},
   "source": [
    "## How about for Canada"
   ]
  },
  {
   "cell_type": "markdown",
   "metadata": {},
   "source": [
    "<img src=\"https://www.worldatwork.org/workspan/media/04-27-canada.jpg\" alt=\"Pandas\" style=\"width: 500px;\"/>"
   ]
  },
  {
   "cell_type": "code",
   "execution_count": 234,
   "metadata": {},
   "outputs": [],
   "source": [
    "#df[df.location  == 'Canada']"
   ]
  },
  {
   "cell_type": "code",
   "execution_count": null,
   "metadata": {},
   "outputs": [],
   "source": [
    "#df[df.location  == 'Canada'].new_cases.max()"
   ]
  },
  {
   "cell_type": "code",
   "execution_count": 217,
   "metadata": {},
   "outputs": [],
   "source": [
    "#df_can = df[df.location  == 'Canada']"
   ]
  },
  {
   "cell_type": "code",
   "execution_count": 232,
   "metadata": {},
   "outputs": [],
   "source": [
    "#df_can.describe()"
   ]
  },
  {
   "cell_type": "code",
   "execution_count": 224,
   "metadata": {},
   "outputs": [],
   "source": [
    "#date_min = df_can.date >= '2021-01-01'\n",
    "#date_max = df_can.date <= '2021-02-31'"
   ]
  },
  {
   "cell_type": "markdown",
   "metadata": {},
   "source": [
    "* new_cases\n",
    "* new_deaths\n",
    "* hosp_patients\n",
    "* icu_patients\n",
    "* new_vaccinations"
   ]
  },
  {
   "cell_type": "code",
   "execution_count": 229,
   "metadata": {},
   "outputs": [],
   "source": [
    "#df_can.new_vaccinations.min()\n",
    "#df_can.new_vaccinations.max()"
   ]
  },
  {
   "cell_type": "code",
   "execution_count": 227,
   "metadata": {},
   "outputs": [],
   "source": [
    "#df_date_range = df_can[date_min & date_max]\n",
    "#df_date_range.shape\n",
    "#print(\"Based on date range given for CANADA,\")\n",
    "#print(\"Shape of new dataframe: \" + str(df_date_range.shape))\n",
    "#print(\"Minimum parameter value: \" + str(df_date_range.new_vaccinations.min()))\n",
    "#print(\"Maximum parameter value: \" + str(df_date_range.new_vaccinations.max()))"
   ]
  },
  {
   "cell_type": "code",
   "execution_count": 228,
   "metadata": {},
   "outputs": [],
   "source": [
    "#cond_parameters = (df_can.weekly_icu_admissions > 8) & (df_can.weekly_icu_admissions < 10)\n",
    "#cond_parameter = (df_can.new_vaccinations < 220000)\n",
    "#df_can[date_min & date_max & cond_parameter]\n"
   ]
  },
  {
   "cell_type": "markdown",
   "metadata": {},
   "source": [
    "<img src=\"https://res.cloudinary.com/pcf/images/f_auto,q_auto/v1588105642/how-you-can-help-defeat-covid-19-blog-featured-image_dr7tjj/how-you-can-help-defeat-covid-19-blog-featured-image_dr7tjj.jpg\" alt=\"Pandas\" style=\"width: 500px;\"/>"
   ]
  },
  {
   "cell_type": "markdown",
   "metadata": {},
   "source": [
    "# Thank you very much\n",
    "\n",
    "## Pandas has been used to manipulate a COVID-19 dataset\n",
    "\n",
    "This is some plain text that forms a paragraph. Add emphasis via **bold** and __bold__, or *italic* and _italic_. \n",
    "\n",
    "Paragraphs must be separated by an empty line. \n",
    "\n",
    "* Sometimes we want to include lists. \n",
    "* Which can be bulleted using asterisks. \n",
    "\n",
    "1. Lists can also be numbered. \n",
    "2. If we want an ordered list.\n",
    "\n",
    "[It iss possible to include hyperlinks](https://www.example.com)\n",
    "\n",
    "Inline code uses single backticks: `foo()`, and code blocks use triple backticks: \n",
    "```\n",
    "bar()\n",
    "``` \n",
    "Or can be indented by 4 spaces: \n",
    "\n",
    "    foo()\n",
    "    \n",
    "And finally, adding images is easy: ![Alt text](https://www.example.com/image.jpg)"
   ]
  },
  {
   "cell_type": "code",
   "execution_count": null,
   "metadata": {},
   "outputs": [],
   "source": []
  }
 ],
 "metadata": {
  "kernelspec": {
   "display_name": "Python 3",
   "language": "python",
   "name": "python3"
  },
  "language_info": {
   "codemirror_mode": {
    "name": "ipython",
    "version": 3
   },
   "file_extension": ".py",
   "mimetype": "text/x-python",
   "name": "python",
   "nbconvert_exporter": "python",
   "pygments_lexer": "ipython3",
   "version": "3.8.5"
  }
 },
 "nbformat": 4,
 "nbformat_minor": 4
}
